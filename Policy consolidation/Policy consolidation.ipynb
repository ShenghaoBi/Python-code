{
 "cells": [
  {
   "cell_type": "code",
   "execution_count": 2,
   "id": "2682625e",
   "metadata": {},
   "outputs": [],
   "source": [
    "import pandas as pd\n",
    "\n",
    "# 读取Excel文件\n",
    "df = pd.read_excel('666.xlsx')\n",
    "\n",
    "# 生成合并DID\n",
    "df['合并DID'] = (df['DID'] == 1) & (df['国家大数据DID'] == 1)\n",
    "\n",
    "\n",
    "# 导出数据\n",
    "df.to_excel('output.xlsx', index=False)\n",
    "\n"
   ]
  },
  {
   "cell_type": "code",
   "execution_count": 2,
   "id": "27d88c64",
   "metadata": {},
   "outputs": [],
   "source": [
    "import pandas as pd\n",
    "\n",
    "# 读取Excel文件\n",
    "df = pd.read_excel('666.xlsx')\n",
    "\n",
    "\n",
    "df['节能城市试点合并DID'] = (df['DID'] == 1) & (df['节能城市试点'] == 1)\n",
    "\n",
    "\n",
    "df['低碳城市合并DID'] = (df['DID'] == 1) & (df['低碳城市'] == 1)\n",
    "\n",
    "\n",
    "df['创新城市合并DID'] = (df['DID'] == 1) & (df['创新城市'] == 1)\n",
    "\n",
    "\n",
    "df['智慧城市合并DID'] = (df['DID'] == 1) & (df['智慧城市'] == 1)\n",
    "\n",
    "\n",
    "df['国家大数据合并DID'] = (df['DID'] == 1) & (df['国家大数据'] == 1)\n",
    "\n",
    "\n",
    "df['宽带中国试点合并DID'] = (df['DI'] == 1) & (df['宽带中国试点'] == 1)\n",
    "\n",
    "# 导出数据\n",
    "df.to_excel('output.xlsx', index=False)"
   ]
  },
  {
   "cell_type": "code",
   "execution_count": null,
   "id": "7368d30a",
   "metadata": {},
   "outputs": [],
   "source": []
  }
 ],
 "metadata": {
  "kernelspec": {
   "display_name": "Python 3 (ipykernel)",
   "language": "python",
   "name": "python3"
  },
  "language_info": {
   "codemirror_mode": {
    "name": "ipython",
    "version": 3
   },
   "file_extension": ".py",
   "mimetype": "text/x-python",
   "name": "python",
   "nbconvert_exporter": "python",
   "pygments_lexer": "ipython3",
   "version": "3.11.4"
  }
 },
 "nbformat": 4,
 "nbformat_minor": 5
}
