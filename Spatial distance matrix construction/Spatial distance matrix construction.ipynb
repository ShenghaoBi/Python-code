{
 "cells": [
  {
   "cell_type": "code",
   "execution_count": 1,
   "id": "5f764463",
   "metadata": {},
   "outputs": [
    {
     "ename": "SyntaxError",
     "evalue": "invalid syntax (878962536.py, line 1)",
     "output_type": "error",
     "traceback": [
      "\u001b[0;36m  Cell \u001b[0;32mIn[1], line 1\u001b[0;36m\u001b[0m\n\u001b[0;31m    mport pandas as pd\u001b[0m\n\u001b[0m          ^\u001b[0m\n\u001b[0;31mSyntaxError\u001b[0m\u001b[0;31m:\u001b[0m invalid syntax\n"
     ]
    }
   ],
   "source": [
    "import pandas as pd\n",
    "\n",
    "# 读取666.xlsx数据\n",
    "data_666 = pd.read_excel('666.xlsx')\n",
    "\n",
    "# 读取W1.xlsx数据\n",
    "data_W1 = pd.read_excel('W1.xlsx', index_col=0)\n",
    "\n",
    "# 创建新的一列DID100，初始值为0\n",
    "data_666['DID100'] = 0\n",
    "\n",
    "# 遍历666.xlsx的每一行\n",
    "for index, row in data_666.iterrows():\n",
    "    current_year = row['year']\n",
    "    current_region = row['地区']\n",
    "    \n",
    "    # 获取当前地区的距离矩阵\n",
    "    distances = data_W1.loc[current_region, :]\n",
    "    \n",
    "    # 找到距离大于0小于等于100的周边地区\n",
    "    nearby_regions = distances[(distances > 0) & (distances <= 100)].index.tolist()\n",
    "    \n",
    "    # 检查周边地区中是否有DID为1的地区\n",
    "    if any(data_666[(data_666['地区'].isin(nearby_regions)) & (data_666['DID'] == 1)]['year'] <= current_year):\n",
    "        # 如果有，则将DID100设置为1\n",
    "        data_666.at[index, 'DID100'] = 1\n",
    "\n",
    "# 将结果导出到新的Excel文件\n",
    "data_666.to_excel('output100.xlsx', index=False)"
   ]
  },
  {
   "cell_type": "code",
   "execution_count": null,
   "id": "24849886",
   "metadata": {},
   "outputs": [],
   "source": []
  }
 ],
 "metadata": {
  "kernelspec": {
   "display_name": "Python 3 (ipykernel)",
   "language": "python",
   "name": "python3"
  },
  "language_info": {
   "codemirror_mode": {
    "name": "ipython",
    "version": 3
   },
   "file_extension": ".py",
   "mimetype": "text/x-python",
   "name": "python",
   "nbconvert_exporter": "python",
   "pygments_lexer": "ipython3",
   "version": "3.11.4"
  }
 },
 "nbformat": 4,
 "nbformat_minor": 5
}
