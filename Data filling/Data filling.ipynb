{
 "cells": [
  {
   "cell_type": "code",
   "execution_count": 1,
   "id": "def32c23",
   "metadata": {},
   "outputs": [],
   "source": [
    "import pandas as pd\n",
    "from sklearn.impute import SimpleImputer\n",
    "\n",
    "# 读取Excel文件到Pandas DataFrame\n",
    "df = pd.read_excel('data.xlsx')\n",
    "\n",
    "# 创建SimpleImputer对象，这里以平均值插补为例\n",
    "# 如果您想保持整数，可以选择'median'或'most_frequent'，因为平均值可能会得到小数\n",
    "imputer = SimpleImputer(strategy='median')\n",
    "\n",
    "# 训练imputer并转换数据\n",
    "df_filled = pd.DataFrame(imputer.fit_transform(df), columns=df.columns)\n",
    "\n",
    "# 将浮点数结果转换为整数\n",
    "# df_filled = df_filled.astype(int)\n",
    "\n",
    "# 将插补后的数据框写回Excel文件\n",
    "df_filled.to_excel('data_imputed.xlsx', index=False)"
   ]
  },
  {
   "cell_type": "code",
   "execution_count": null,
   "id": "075226e8",
   "metadata": {},
   "outputs": [],
   "source": []
  }
 ],
 "metadata": {
  "kernelspec": {
   "display_name": "Python 3 (ipykernel)",
   "language": "python",
   "name": "python3"
  },
  "language_info": {
   "codemirror_mode": {
    "name": "ipython",
    "version": 3
   },
   "file_extension": ".py",
   "mimetype": "text/x-python",
   "name": "python",
   "nbconvert_exporter": "python",
   "pygments_lexer": "ipython3",
   "version": "3.11.4"
  }
 },
 "nbformat": 4,
 "nbformat_minor": 5
}
