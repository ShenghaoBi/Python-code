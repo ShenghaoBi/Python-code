{
 "cells": [
  {
   "cell_type": "code",
   "execution_count": null,
   "id": "3e86f4ee",
   "metadata": {},
   "outputs": [],
   "source": [
    "# 加载pandas包，没有的话需要下载，下载命令为pip install  pandas\n",
    "import pandas as pd\n",
    "# 读取原始数据.xlsx文件\n",
    "df_original = pd.read_excel('原始数据.xlsx')\n",
    "\n",
    "# 读取333.xlsx文件\n",
    "df_333 = pd.read_excel('wai lai shu j.xlsx')\n",
    "\n",
    "# 根据id和year条件匹配数据，保留原始数据.xlsx的顺序\n",
    "df_result = pd.merge_ordered(df_original, df_333, on=['地区', 'year'], how='left')\n",
    "\n",
    "# 将没有匹配到的数据用NA表示\n",
    "df_result.fillna('NA', inplace=True)\n",
    "\n",
    "# 导出结果到原始1234.xlsx文件\n",
    "df_result.to_excel('原始1234.xlsx', index=False)"
   ]
  }
 ],
 "metadata": {
  "kernelspec": {
   "display_name": "Python 3 (ipykernel)",
   "language": "python",
   "name": "python3"
  },
  "language_info": {
   "codemirror_mode": {
    "name": "ipython",
    "version": 3
   },
   "file_extension": ".py",
   "mimetype": "text/x-python",
   "name": "python",
   "nbconvert_exporter": "python",
   "pygments_lexer": "ipython3",
   "version": "3.11.4"
  }
 },
 "nbformat": 4,
 "nbformat_minor": 5
}
